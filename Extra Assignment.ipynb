{
 "cells": [
  {
   "cell_type": "code",
   "execution_count": 4,
   "id": "52edab7b-eac3-483f-8956-d58acc2b1bb7",
   "metadata": {},
   "outputs": [
    {
     "name": "stdout",
     "output_type": "stream",
     "text": [
      "ancancanc\n"
     ]
    }
   ],
   "source": [
    "print(3*\"anc\")"
   ]
  },
  {
   "cell_type": "code",
   "execution_count": 18,
   "id": "d567c0e2-8642-4f2f-99be-9df95639ae4b",
   "metadata": {},
   "outputs": [
    {
     "name": "stdin",
     "output_type": "stream",
     "text": [
      "Enter the age of the person 0\n"
     ]
    },
    {
     "name": "stdout",
     "output_type": "stream",
     "text": [
      "The person is not eligible\n"
     ]
    }
   ],
   "source": [
    "age=int(input(\"Enter the age of the person\"))\n",
    "if age>=18:\n",
    "    print(\"the person is eligible for vote\")\n",
    "else:\n",
    "    print(\"The person is not eligible\")"
   ]
  },
  {
   "cell_type": "code",
   "execution_count": 12,
   "id": "8010036d-355e-4d6f-9d4c-e672f69d43dd",
   "metadata": {},
   "outputs": [
    {
     "name": "stdout",
     "output_type": "stream",
     "text": [
      "90\n"
     ]
    }
   ],
   "source": [
    "list=[23,54,67,90]\n",
    "largest=max(list)\n",
    "print(largest)"
   ]
  },
  {
   "cell_type": "code",
   "execution_count": 19,
   "id": "37206367-9964-4952-b3de-4454f18fb328",
   "metadata": {},
   "outputs": [
    {
     "name": "stdout",
     "output_type": "stream",
     "text": [
      "9999\n"
     ]
    }
   ],
   "source": [
    "list=[21,95,29,100,1000,99,9999]\n",
    "largest=max(list)\n",
    "print(largest)"
   ]
  },
  {
   "cell_type": "code",
   "execution_count": 33,
   "id": "3c506f28-cce0-4cdf-a8d7-6f0375ee5080",
   "metadata": {},
   "outputs": [
    {
     "name": "stdin",
     "output_type": "stream",
     "text": [
      "the salary amount is 5000000\n"
     ]
    },
    {
     "name": "stdout",
     "output_type": "stream",
     "text": [
      "88888888\n"
     ]
    }
   ],
   "source": [
    "int(input(\"the salary amount is\"))\n",
    "if num>50000:\n",
    "    \n",
    "    print(num)\n",
    "else:\n",
    "    print(\"no bonus\")\n",
    "              \n",
    "              "
   ]
  },
  {
   "cell_type": "code",
   "execution_count": null,
   "id": "9c3d109a-890e-45bc-b443-8d828e09a7f0",
   "metadata": {},
   "outputs": [],
   "source": []
  }
 ],
 "metadata": {
  "kernelspec": {
   "display_name": "Python 3 (ipykernel)",
   "language": "python",
   "name": "python3"
  },
  "language_info": {
   "codemirror_mode": {
    "name": "ipython",
    "version": 3
   },
   "file_extension": ".py",
   "mimetype": "text/x-python",
   "name": "python",
   "nbconvert_exporter": "python",
   "pygments_lexer": "ipython3",
   "version": "3.12.3"
  }
 },
 "nbformat": 4,
 "nbformat_minor": 5
}
