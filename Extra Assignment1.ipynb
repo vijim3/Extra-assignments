{
 "cells": [
  {
   "cell_type": "code",
   "execution_count": 10,
   "id": "4eae99cd-c44b-40d7-a5fc-43a0eda1b8e2",
   "metadata": {},
   "outputs": [
    {
     "name": "stdin",
     "output_type": "stream",
     "text": [
      "the salary amount is 70555\n"
     ]
    },
    {
     "name": "stdout",
     "output_type": "stream",
     "text": [
      "7055.5\n"
     ]
    }
   ],
   "source": [
    "salary=int(input(\"the salary amount is\"))\n",
    "if salary>50000:\n",
    "    bonus=salary*0.1\n",
    "    print(bonus)\n",
    "else:\n",
    "    print(\"no bonus\")"
   ]
  },
  {
   "cell_type": "code",
   "execution_count": 13,
   "id": "3cd7b84b-e3de-4b91-83aa-d02987565f05",
   "metadata": {},
   "outputs": [
    {
     "name": "stdin",
     "output_type": "stream",
     "text": [
      "enther the numer: 7\n"
     ]
    },
    {
     "name": "stdout",
     "output_type": "stream",
     "text": [
      "the given number is odd\n"
     ]
    }
   ],
   "source": [
    "num=int(input(\"enther the numer:\"))\n",
    "if num%2==0:\n",
    "    print(\"the given number is even\")\n",
    "else:\n",
    "    print(\"the given number is odd\")"
   ]
  },
  {
   "cell_type": "code",
   "execution_count": 23,
   "id": "fb945959-79a9-4968-8abc-877c6875fd3c",
   "metadata": {},
   "outputs": [
    {
     "name": "stdin",
     "output_type": "stream",
     "text": [
      "Type a word or sentence return\n"
     ]
    },
    {
     "name": "stdout",
     "output_type": "stream",
     "text": [
      "the reverse foramt is: nruter\n"
     ]
    }
   ],
   "source": [
    "word=str(input(\"Type a word or sentence\"))\n",
    "rev = word[::-1]\n",
    "print(\"the reverse foramt is:\",rev)"
   ]
  },
  {
   "cell_type": "code",
   "execution_count": 26,
   "id": "40f2ba63-a862-4576-87ae-d818f0369be7",
   "metadata": {},
   "outputs": [
    {
     "name": "stdin",
     "output_type": "stream",
     "text": [
      "Mark 33\n"
     ]
    },
    {
     "name": "stdout",
     "output_type": "stream",
     "text": [
      "Fail\n"
     ]
    }
   ],
   "source": [
    "mark=int(input(\"Mark\"))\n",
    "if mark<40:\n",
    "    print(\"Fail\")\n",
    "else:\n",
    "    print(\"Pass\")"
   ]
  },
  {
   "cell_type": "code",
   "execution_count": 38,
   "id": "d05a070e-2292-4ce5-b098-951dde056961",
   "metadata": {},
   "outputs": [
    {
     "name": "stdin",
     "output_type": "stream",
     "text": [
      "the total purchase amount is: 60000\n"
     ]
    },
    {
     "name": "stdout",
     "output_type": "stream",
     "text": [
      "12000.0\n"
     ]
    }
   ],
   "source": [
    "price=int(input(\"the total purchase amount is:\"))\n",
    "if price>10000:\n",
    "    discount = price*0.2\n",
    "    print(discount)\n",
    "else:\n",
    "    print(\"No discount\")\n",
    "                "
   ]
  },
  {
   "cell_type": "code",
   "execution_count": 18,
   "id": "2f6c282c-8ff3-439e-85b6-265e75216464",
   "metadata": {},
   "outputs": [
    {
     "name": "stdin",
     "output_type": "stream",
     "text": [
      "enter the numbers: 8,9,0,6\n"
     ]
    },
    {
     "ename": "ValueError",
     "evalue": "invalid literal for int() with base 10: '8,9,0,6'",
     "output_type": "error",
     "traceback": [
      "\u001b[1;31m---------------------------------------------------------------------------\u001b[0m",
      "\u001b[1;31mValueError\u001b[0m                                Traceback (most recent call last)",
      "Cell \u001b[1;32mIn[18], line 1\u001b[0m\n\u001b[1;32m----> 1\u001b[0m num\u001b[38;5;241m=\u001b[39m\u001b[38;5;28mint\u001b[39m(\u001b[38;5;28minput\u001b[39m(\u001b[38;5;124m\"\u001b[39m\u001b[38;5;124menter the numbers:\u001b[39m\u001b[38;5;124m\"\u001b[39m))\n\u001b[0;32m      2\u001b[0m \u001b[38;5;28;01mif\u001b[39;00m num\u001b[38;5;241m%\u001b[39m\u001b[38;5;241m2\u001b[39m\u001b[38;5;241m==\u001b[39m\u001b[38;5;241m0\u001b[39m:\n\u001b[0;32m      3\u001b[0m     \u001b[38;5;28mprint\u001b[39m(num)\n",
      "\u001b[1;31mValueError\u001b[0m: invalid literal for int() with base 10: '8,9,0,6'"
     ]
    }
   ],
   "source": [
    "num=int(input(\"enter the numbers:\"))\n",
    "if num%2==0:\n",
    "    print(num)\n",
    "else:\n",
    "    print(\"odd\")"
   ]
  },
  {
   "cell_type": "code",
   "execution_count": null,
   "id": "1fff5d68-b157-4cbd-aebf-a42e1bbb303e",
   "metadata": {},
   "outputs": [],
   "source": []
  }
 ],
 "metadata": {
  "kernelspec": {
   "display_name": "Python 3 (ipykernel)",
   "language": "python",
   "name": "python3"
  },
  "language_info": {
   "codemirror_mode": {
    "name": "ipython",
    "version": 3
   },
   "file_extension": ".py",
   "mimetype": "text/x-python",
   "name": "python",
   "nbconvert_exporter": "python",
   "pygments_lexer": "ipython3",
   "version": "3.12.7"
  }
 },
 "nbformat": 4,
 "nbformat_minor": 5
}
